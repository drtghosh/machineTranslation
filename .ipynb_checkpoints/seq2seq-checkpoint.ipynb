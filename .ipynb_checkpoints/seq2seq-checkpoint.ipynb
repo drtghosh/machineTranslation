{
 "cells": [
  {
   "cell_type": "code",
   "execution_count": 1,
   "metadata": {},
   "outputs": [
    {
     "name": "stderr",
     "output_type": "stream",
     "text": [
      "Using TensorFlow backend.\n"
     ]
    }
   ],
   "source": [
    "import os, sys\n",
    "import numpy as np\n",
    "import pandas as pd\n",
    "import string\n",
    "import keras.backend as K"
   ]
  },
  {
   "cell_type": "code",
   "execution_count": 2,
   "metadata": {},
   "outputs": [],
   "source": [
    "MAX_TRAINING_SAMPLES = 10000\n",
    "MAX_VOCAB_SIZE = 20000\n",
    "EMBEDDING_DIM = 100\n",
    "LATENT_DIM = 128\n",
    "BATCH_SIZE = 64\n",
    "EPOCHS =30\n",
    "VALIDATION_SPLIT=0.2"
   ]
  },
  {
   "cell_type": "code",
   "execution_count": 3,
   "metadata": {},
   "outputs": [],
   "source": [
    "input_lines = []\n",
    "target_lines = []\n",
    "target_line_inputs = []"
   ]
  },
  {
   "cell_type": "code",
   "execution_count": 4,
   "metadata": {},
   "outputs": [],
   "source": [
    "with open('spa.txt', encoding='utf-8') as f:\n",
    "    text = f.readlines()"
   ]
  },
  {
   "cell_type": "code",
   "execution_count": 5,
   "metadata": {},
   "outputs": [
    {
     "name": "stdout",
     "output_type": "stream",
     "text": [
      "Final samples collected: 10000\n"
     ]
    }
   ],
   "source": [
    "count = 0\n",
    "for line in text:\n",
    "    count+=1\n",
    "    if count > MAX_TRAINING_SAMPLES:\n",
    "        break\n",
    "    \n",
    "    if '\\t' not in line:\n",
    "        continue\n",
    "        \n",
    "    eng, translation, _ = line.rstrip().split('\\t')\n",
    "    \n",
    "    target_line = translation + ' <eos>'\n",
    "    target_input = '<sos> ' + translation\n",
    "    \n",
    "    input_lines.append(eng)\n",
    "    target_lines.append(target_line)\n",
    "    target_line_inputs.append(target_input)\n",
    "    \n",
    "print(f'Final samples collected: {len(input_lines)}')"
   ]
  },
  {
   "cell_type": "code",
   "execution_count": 6,
   "metadata": {},
   "outputs": [
    {
     "name": "stdout",
     "output_type": "stream",
     "text": [
      "Total 2352 english words found\n",
      "Input sequence maximum length: 5\n",
      "Total 6325 translated words found\n",
      "Decoder sequence maximum length: 9\n",
      "6326\n"
     ]
    }
   ],
   "source": [
    "from keras.preprocessing.text import Tokenizer\n",
    "from keras.preprocessing.sequence import pad_sequences\n",
    "\n",
    "eng_tokenizer = Tokenizer(num_words=MAX_VOCAB_SIZE)\n",
    "eng_tokenizer.fit_on_texts(input_lines)\n",
    "input_sequences = eng_tokenizer.texts_to_sequences(input_lines)\n",
    "eng_w2i = eng_tokenizer.word_index\n",
    "print(f'Total {len(eng_w2i)} english words found')\n",
    "max_eng_len = max(len(seq) for seq in input_sequences)\n",
    "print(f'Input sequence maximum length: {max_eng_len}')\n",
    "\n",
    "translate_tokenizer = Tokenizer(num_words=MAX_VOCAB_SIZE, filters='')\n",
    "translate_tokenizer.fit_on_texts(target_lines+target_line_inputs)\n",
    "decoder_input_sequences = translate_tokenizer.texts_to_sequences(target_line_inputs)\n",
    "decoder_output_sequences = translate_tokenizer.texts_to_sequences(target_lines)\n",
    "translate_w2i = translate_tokenizer.word_index\n",
    "print(f'Total {len(translate_w2i)} translated words found')\n",
    "max_translate_len = max(len(seq) for seq in decoder_input_sequences)\n",
    "print(f'Decoder sequence maximum length: {max_translate_len}')\n",
    "max_translate_word = len(translate_w2i)+1\n",
    "print(max_translate_word)"
   ]
  },
  {
   "cell_type": "code",
   "execution_count": 7,
   "metadata": {},
   "outputs": [],
   "source": [
    "encoder_inputs = pad_sequences(input_sequences, maxlen=max_eng_len)\n",
    "decoder_inputs = pad_sequences(decoder_input_sequences, maxlen=max_translate_len, padding='post')\n",
    "decoder_outputs = pad_sequences(decoder_output_sequences, maxlen=max_translate_len, padding='post')\n",
    "one_hot_decoder_outputs = np.zeros((len(input_lines), max_translate_len, max_translate_word))\n",
    "for index, seq in enumerate(decoder_outputs):\n",
    "    for i, word in enumerate(seq):\n",
    "        one_hot_decoder_outputs[index, i, word] = 1"
   ]
  },
  {
   "cell_type": "code",
   "execution_count": 8,
   "metadata": {},
   "outputs": [
    {
     "name": "stdout",
     "output_type": "stream",
     "text": [
      "Total 400000 word vectors found\n"
     ]
    }
   ],
   "source": [
    "word2vec={}\n",
    "for line in open(f'glove.6B.{EMBEDDING_DIM}d.txt', encoding='utf-8'):\n",
    "    entry = line.split()\n",
    "    word = entry[0]\n",
    "    vector = np.asarray(entry[1:], dtype='float32')\n",
    "    word2vec[word] = vector\n",
    "print(f'Total {len(word2vec)} word vectors found')"
   ]
  },
  {
   "cell_type": "code",
   "execution_count": 9,
   "metadata": {},
   "outputs": [],
   "source": [
    "max_eng_word = min(MAX_VOCAB_SIZE, len(eng_w2i)+1)\n",
    "embedding_matrix = np.zeros((max_eng_word, EMBEDDING_DIM))\n",
    "for word, index in eng_w2i.items():\n",
    "    if index < MAX_VOCAB_SIZE:\n",
    "        embedding_vector = eng_w2i.get(word)\n",
    "        if embedding_vector is not None:\n",
    "            embedding_matrix[index] = embedding_vector\n",
    "\n",
    "from keras.layers import Embedding\n",
    "embedding_layer = Embedding(max_eng_word, EMBEDDING_DIM, weights=[embedding_matrix], input_length=max_eng_len)"
   ]
  },
  {
   "cell_type": "code",
   "execution_count": 10,
   "metadata": {},
   "outputs": [],
   "source": [
    "from keras.models import Model, Input\n",
    "from keras.layers import Dense, Dropout, LSTM\n",
    "from keras.optimizers import Adam\n",
    "\n",
    "input_encoder = Input((max_eng_len,))\n",
    "x = embedding_layer(input_encoder)\n",
    "encoder = LSTM(LATENT_DIM, return_state=True)\n",
    "encoder_output, h, c = encoder(x)\n",
    "encoder_states = [h, c]\n",
    "\n",
    "input_decoder = Input((max_translate_len,))\n",
    "decoder_embedding = Embedding(max_translate_word, LATENT_DIM)\n",
    "decoder_x = decoder_embedding(input_decoder)\n",
    "\n",
    "decoder = LSTM(LATENT_DIM, return_state=True, return_sequences=True)\n",
    "decoder_output, _, _ = decoder(decoder_x, initial_state=encoder_states)\n",
    "decoder_dense_layer = Dense(max_translate_word, activation='softmax')\n",
    "decoder_output = decoder_dense_layer(decoder_output)\n",
    "\n",
    "model = Model([input_encoder, input_decoder], decoder_output)"
   ]
  },
  {
   "cell_type": "code",
   "execution_count": 11,
   "metadata": {},
   "outputs": [],
   "source": [
    "def custom_loss(prediction, true):\n",
    "    mask = K.cast(true>0, dtype='float32')\n",
    "    output_log = mask*true*K.log(prediction)\n",
    "    return -K.sum(output_log)/K.sum(mask)\n",
    "\n",
    "def custom_accuracy(prediction, true):\n",
    "    pred_labels = K.argmax(prediction, axis=-1)\n",
    "    true_labels = K.argmax(true, axis=-1)\n",
    "    match = K.cast(K.equal(true_labels, pred_labels), dtype='float32')\n",
    "    \n",
    "    mask = K.cast(K.greater(true_labels, 0), dtype='float32')\n",
    "    out = mask*match\n",
    "    return K.sum(out)/K.sum(mask)"
   ]
  },
  {
   "cell_type": "code",
   "execution_count": 12,
   "metadata": {},
   "outputs": [
    {
     "name": "stdout",
     "output_type": "stream",
     "text": [
      "Model: \"model_1\"\n",
      "__________________________________________________________________________________________________\n",
      "Layer (type)                    Output Shape         Param #     Connected to                     \n",
      "==================================================================================================\n",
      "input_1 (InputLayer)            (None, 5)            0                                            \n",
      "__________________________________________________________________________________________________\n",
      "input_2 (InputLayer)            (None, 9)            0                                            \n",
      "__________________________________________________________________________________________________\n",
      "embedding_1 (Embedding)         (None, 5, 100)       235300      input_1[0][0]                    \n",
      "__________________________________________________________________________________________________\n",
      "embedding_2 (Embedding)         (None, 9, 128)       809728      input_2[0][0]                    \n",
      "__________________________________________________________________________________________________\n",
      "lstm_1 (LSTM)                   [(None, 128), (None, 117248      embedding_1[0][0]                \n",
      "__________________________________________________________________________________________________\n",
      "lstm_2 (LSTM)                   [(None, 9, 128), (No 131584      embedding_2[0][0]                \n",
      "                                                                 lstm_1[0][1]                     \n",
      "                                                                 lstm_1[0][2]                     \n",
      "__________________________________________________________________________________________________\n",
      "dense_1 (Dense)                 (None, 9, 6326)      816054      lstm_2[0][0]                     \n",
      "==================================================================================================\n",
      "Total params: 2,109,914\n",
      "Trainable params: 2,109,914\n",
      "Non-trainable params: 0\n",
      "__________________________________________________________________________________________________\n"
     ]
    }
   ],
   "source": [
    "#model.compile(loss=custom_loss, optimizer=Adam(learning_rate=0.01), metrics=[custom_accuracy])\n",
    "model.compile(loss='categorical_crossentropy', optimizer=Adam(learning_rate=0.01), metrics=['accuracy'])\n",
    "model.summary()"
   ]
  },
  {
   "cell_type": "code",
   "execution_count": 13,
   "metadata": {},
   "outputs": [
    {
     "name": "stderr",
     "output_type": "stream",
     "text": [
      "C:\\Users\\Riju\\Miniconda3\\envs\\Tensorflow-GPU\\lib\\site-packages\\tensorflow_core\\python\\framework\\indexed_slices.py:433: UserWarning: Converting sparse IndexedSlices to a dense Tensor of unknown shape. This may consume a large amount of memory.\n",
      "  \"Converting sparse IndexedSlices to a dense Tensor of unknown shape. \"\n"
     ]
    },
    {
     "name": "stdout",
     "output_type": "stream",
     "text": [
      "Train on 8000 samples, validate on 2000 samples\n",
      "Epoch 1/30\n",
      "8000/8000 [==============================] - 19s 2ms/step - loss: 2.5423 - accuracy: 0.6835 - val_loss: 2.4391 - val_accuracy: 0.6616\n",
      "Epoch 2/30\n",
      "8000/8000 [==============================] - 14s 2ms/step - loss: 1.8687 - accuracy: 0.7214 - val_loss: 2.4168 - val_accuracy: 0.6581\n",
      "Epoch 3/30\n",
      "8000/8000 [==============================] - 14s 2ms/step - loss: 1.7011 - accuracy: 0.7305 - val_loss: 2.4329 - val_accuracy: 0.6598\n",
      "Epoch 4/30\n",
      "8000/8000 [==============================] - 14s 2ms/step - loss: 1.5674 - accuracy: 0.7375 - val_loss: 2.4626 - val_accuracy: 0.6556\n",
      "Epoch 5/30\n",
      "8000/8000 [==============================] - 13s 2ms/step - loss: 1.4522 - accuracy: 0.7446 - val_loss: 2.5207 - val_accuracy: 0.6586\n",
      "Epoch 6/30\n",
      "8000/8000 [==============================] - 14s 2ms/step - loss: 1.3523 - accuracy: 0.7525 - val_loss: 2.5768 - val_accuracy: 0.6526\n",
      "Epoch 7/30\n",
      "8000/8000 [==============================] - 14s 2ms/step - loss: 1.2703 - accuracy: 0.7590 - val_loss: 2.6313 - val_accuracy: 0.6474\n",
      "Epoch 8/30\n",
      "8000/8000 [==============================] - 14s 2ms/step - loss: 1.2080 - accuracy: 0.7654 - val_loss: 2.6783 - val_accuracy: 0.6460\n",
      "Epoch 9/30\n",
      "8000/8000 [==============================] - 14s 2ms/step - loss: 1.1594 - accuracy: 0.7719 - val_loss: 2.7139 - val_accuracy: 0.6521\n",
      "Epoch 10/30\n",
      "8000/8000 [==============================] - 14s 2ms/step - loss: 1.1238 - accuracy: 0.7768 - val_loss: 2.7327 - val_accuracy: 0.6537\n",
      "Epoch 11/30\n",
      "8000/8000 [==============================] - 14s 2ms/step - loss: 1.0959 - accuracy: 0.7797 - val_loss: 2.7748 - val_accuracy: 0.6507\n",
      "Epoch 12/30\n",
      "8000/8000 [==============================] - 14s 2ms/step - loss: 1.0761 - accuracy: 0.7815 - val_loss: 2.7897 - val_accuracy: 0.6489\n",
      "Epoch 13/30\n",
      "8000/8000 [==============================] - 14s 2ms/step - loss: 1.0549 - accuracy: 0.7863 - val_loss: 2.8201 - val_accuracy: 0.6528\n",
      "Epoch 14/30\n",
      "8000/8000 [==============================] - 14s 2ms/step - loss: 1.0388 - accuracy: 0.7875 - val_loss: 2.8421 - val_accuracy: 0.6428\n",
      "Epoch 15/30\n",
      "8000/8000 [==============================] - 14s 2ms/step - loss: 1.0245 - accuracy: 0.7885 - val_loss: 2.8481 - val_accuracy: 0.6548\n",
      "Epoch 16/30\n",
      "8000/8000 [==============================] - 14s 2ms/step - loss: 1.0103 - accuracy: 0.7904 - val_loss: 2.8523 - val_accuracy: 0.6478\n",
      "Epoch 17/30\n",
      "8000/8000 [==============================] - 15s 2ms/step - loss: 0.9995 - accuracy: 0.7903 - val_loss: 2.8716 - val_accuracy: 0.6493\n",
      "Epoch 18/30\n",
      "8000/8000 [==============================] - 14s 2ms/step - loss: 0.9898 - accuracy: 0.7915 - val_loss: 2.8718 - val_accuracy: 0.6508\n",
      "Epoch 19/30\n",
      "8000/8000 [==============================] - 14s 2ms/step - loss: 0.9838 - accuracy: 0.7914 - val_loss: 2.8988 - val_accuracy: 0.6507\n",
      "Epoch 20/30\n",
      "8000/8000 [==============================] - 14s 2ms/step - loss: 0.9768 - accuracy: 0.7925 - val_loss: 2.9141 - val_accuracy: 0.6516\n",
      "Epoch 21/30\n",
      "8000/8000 [==============================] - 14s 2ms/step - loss: 0.9688 - accuracy: 0.7930 - val_loss: 2.9180 - val_accuracy: 0.6522\n",
      "Epoch 22/30\n",
      "8000/8000 [==============================] - 14s 2ms/step - loss: 0.9654 - accuracy: 0.7943 - val_loss: 2.8936 - val_accuracy: 0.6512\n",
      "Epoch 23/30\n",
      "8000/8000 [==============================] - 14s 2ms/step - loss: 0.9574 - accuracy: 0.7957 - val_loss: 2.9147 - val_accuracy: 0.6536\n",
      "Epoch 24/30\n",
      "8000/8000 [==============================] - 14s 2ms/step - loss: 0.9549 - accuracy: 0.7955 - val_loss: 2.9326 - val_accuracy: 0.6503\n",
      "Epoch 25/30\n",
      "8000/8000 [==============================] - 15s 2ms/step - loss: 0.9483 - accuracy: 0.7962 - val_loss: 2.9360 - val_accuracy: 0.6525\n",
      "Epoch 26/30\n",
      "8000/8000 [==============================] - 14s 2ms/step - loss: 0.9404 - accuracy: 0.7968 - val_loss: 2.9320 - val_accuracy: 0.6517\n",
      "Epoch 27/30\n",
      "8000/8000 [==============================] - 14s 2ms/step - loss: 0.9365 - accuracy: 0.7971 - val_loss: 2.9297 - val_accuracy: 0.6530\n",
      "Epoch 28/30\n",
      "8000/8000 [==============================] - 13s 2ms/step - loss: 0.9319 - accuracy: 0.7983 - val_loss: 2.9440 - val_accuracy: 0.6516\n",
      "Epoch 29/30\n",
      "8000/8000 [==============================] - 14s 2ms/step - loss: 0.9279 - accuracy: 0.7982 - val_loss: 2.9677 - val_accuracy: 0.6537\n",
      "Epoch 30/30\n",
      "8000/8000 [==============================] - 14s 2ms/step - loss: 0.9278 - accuracy: 0.7975 - val_loss: 2.9590 - val_accuracy: 0.6471\n"
     ]
    }
   ],
   "source": [
    "history = model.fit([encoder_inputs, decoder_inputs], one_hot_decoder_outputs, \n",
    "                    batch_size=BATCH_SIZE, epochs=EPOCHS, validation_split=VALIDATION_SPLIT)"
   ]
  },
  {
   "cell_type": "code",
   "execution_count": 14,
   "metadata": {},
   "outputs": [
    {
     "data": {
      "image/png": "[encoded data removed]",
      "text/plain": [
       "<Figure size 432x288 with 1 Axes>"
      ]
     },
     "metadata": {
      "needs_background": "light"
     },
     "output_type": "display_data"
    }
   ],
   "source": [
    "from matplotlib import pyplot as plt\n",
    "plt.plot(history.history['loss'], label='Training loss')\n",
    "plt.plot(history.history['val_loss'], label='Validation loss')\n",
    "plt.legend()\n",
    "plt.show()"
   ]
  },
  {
   "cell_type": "code",
   "execution_count": 15,
   "metadata": {},
   "outputs": [
    {
     "data": {
      "image/png": "[encoded data removed]",
      "text/plain": [
       "<Figure size 432x288 with 1 Axes>"
      ]
     },
     "metadata": {
      "needs_background": "light"
     },
     "output_type": "display_data"
    }
   ],
   "source": [
    "plt.plot(history.history['accuracy'], label='Training acc')\n",
    "plt.plot(history.history['val_accuracy'], label='Validation acc')\n",
    "plt.legend()\n",
    "plt.show()"
   ]
  },
  {
   "cell_type": "code",
   "execution_count": 16,
   "metadata": {},
   "outputs": [],
   "source": [
    "model.save('seq2seq.h5')"
   ]
  },
  {
   "cell_type": "code",
   "execution_count": 17,
   "metadata": {},
   "outputs": [],
   "source": [
    "eng_i2w = {value: key for key, value in eng_w2i.items()}\n",
    "translate_i2w = {value: key for key, value in translate_w2i.items()}"
   ]
  },
  {
   "cell_type": "code",
   "execution_count": 18,
   "metadata": {},
   "outputs": [],
   "source": [
    "#### Prediction\n",
    "encoder_model = Model(input_encoder, encoder_states)\n",
    "\n",
    "decoder_initial_h = Input((LATENT_DIM,))\n",
    "decoder_initial_c = Input((LATENT_DIM,))\n",
    "\n",
    "decoder_input_states = [decoder_initial_h, decoder_initial_c]\n",
    "\n",
    "decoder_input_pred = Input((1,))\n",
    "decoder_x_pred = decoder_embedding(decoder_input_pred)\n",
    "\n",
    "decoder_output_pred, h_pred, c_pred = decoder(decoder_x_pred, initial_state=decoder_input_states)\n",
    "decoder_output_pred = decoder_dense_layer(decoder_output_pred)\n",
    "\n",
    "decoder_model = Model([decoder_input_pred] + decoder_input_states, [decoder_output_pred] + [h_pred, c_pred])"
   ]
  },
  {
   "cell_type": "code",
   "execution_count": 19,
   "metadata": {},
   "outputs": [],
   "source": [
    "def translator(eng_line):\n",
    "    state_values = encoder_model.predict(eng_line)\n",
    "    \n",
    "    temp_pred = np.zeros((1,1))\n",
    "    temp_pred[0,0] = translate_w2i['<sos>']\n",
    "    \n",
    "    eos = translate_w2i['<eos>']\n",
    "    \n",
    "    translation = []\n",
    "    \n",
    "    for _ in range(max_translate_len):\n",
    "        output_, h_, c_ = decoder_model.predict([temp_pred] + state_values)\n",
    "        \n",
    "        maxp_idx = np.argmax(output_[0,0,:])\n",
    "        if maxp_idx==eos:\n",
    "            break\n",
    "            \n",
    "        word=''\n",
    "        if maxp_idx>0:\n",
    "            word = translate_i2w.get(maxp_idx)\n",
    "            translation.append(word)\n",
    "            \n",
    "        temp_pred[0,0] = maxp_idx\n",
    "        state_values = [h_,c_]\n",
    "        \n",
    "    return ' '.join(translation)"
   ]
  },
  {
   "cell_type": "code",
   "execution_count": 39,
   "metadata": {},
   "outputs": [
    {
     "data": {
      "text/plain": [
       "'yo no puedo manejar.'"
      ]
     },
     "execution_count": 39,
     "metadata": {},
     "output_type": "execute_result"
    }
   ],
   "source": [
    "translator(encoder_inputs[2000:2001])"
   ]
  },
  {
   "cell_type": "code",
   "execution_count": 42,
   "metadata": {},
   "outputs": [
    {
     "data": {
      "text/plain": [
       "'Necesito esto. <eos>'"
      ]
     },
     "execution_count": 42,
     "metadata": {},
     "output_type": "execute_result"
    }
   ],
   "source": [
    "target_lines[2000]"
   ]
  },
  {
   "cell_type": "code",
   "execution_count": null,
   "metadata": {},
   "outputs": [],
   "source": []
  }
 ],
 "metadata": {
  "kernelspec": {
   "display_name": "Python 3",
   "language": "python",
   "name": "python3"
  },
  "language_info": {
   "codemirror_mode": {
    "name": "ipython",
    "version": 3
   },
   "file_extension": ".py",
   "mimetype": "text/x-python",
   "name": "python",
   "nbconvert_exporter": "python",
   "pygments_lexer": "ipython3",
   "version": "3.7.6"
  }
 },
 "nbformat": 4,
 "nbformat_minor": 4
}
